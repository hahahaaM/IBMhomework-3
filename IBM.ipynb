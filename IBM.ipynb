{
 "cells": [
  {
   "cell_type": "code",
   "execution_count": null,
   "id": "3b484275-5037-4280-aa4f-e01f59ca343c",
   "metadata": {},
   "outputs": [],
   "source": [
    "import yfinance as yf\n",
    "\n",
    "# 提取特斯拉（TSLA）股票数据\n",
    "tesla = yf.Ticker(\"TSLA\")\n",
    "tesla_data = tesla.history(period=\"max\")  # 获取所有历史数据\n",
    "\n",
    "# 显示前几行数据\n",
    "print(tesla_data.head())\n"
   ]
  },
  {
   "cell_type": "code",
   "execution_count": null,
   "id": "d8d9d7d1-d168-4fd3-addd-abbf92cac1c4",
   "metadata": {},
   "outputs": [],
   "source": [
    "import requests\n",
    "from bs4 import BeautifulSoup\n",
    "\n",
    "# 指定抓取的网页 URL\n",
    "url = \"https://example.com/tesla-income-data\"  # 替换为实际特斯拉收入数据页面\n",
    "\n",
    "response = requests.get(url)\n",
    "soup = BeautifulSoup(response.text, 'html.parser')\n",
    "\n",
    "# 假设收入数据在表格中\n",
    "table = soup.find('table')\n",
    "rows = table.find_all('tr')\n",
    "\n",
    "# 提取收入数据\n",
    "tesla_income_data = []\n",
    "for row in rows:\n",
    "    cols = row.find_all('td')\n",
    "    tesla_income_data.append([col.text.strip() for col in cols])\n",
    "\n",
    "print(tesla_income_data)\n"
   ]
  },
  {
   "cell_type": "code",
   "execution_count": null,
   "id": "ea256edb-a681-4b56-be78-c17ae5eea80b",
   "metadata": {},
   "outputs": [],
   "source": [
    "# 提取 GameStop（GME）股票数据\n",
    "gamestop = yf.Ticker(\"GME\")\n",
    "gamestop_data = gamestop.history(period=\"max\")  # 获取所有历史数据\n",
    "\n",
    "# 显示前几行数据\n",
    "print(gamestop_data.head())\n"
   ]
  },
  {
   "cell_type": "code",
   "execution_count": null,
   "id": "b765f09e-6f60-4885-a258-652d27031cea",
   "metadata": {},
   "outputs": [],
   "source": [
    "# 替换为实际 GameStop 收入数据的 URL\n",
    "url = \"https://example.com/gamestop-income-data\"  # 需替换为实际页面\n",
    "\n",
    "response = requests.get(url)\n",
    "soup = BeautifulSoup(response.text, 'html.parser')\n",
    "\n",
    "# 假设收入数据在表格中\n",
    "table = soup.find('table')\n",
    "rows = table.find_all('tr')\n",
    "\n",
    "# 提取收入数据\n",
    "gamestop_income_data = []\n",
    "for row in rows:\n",
    "    cols = row.find_all('td')\n",
    "    gamestop_income_data.append([col.text.strip() for col in cols])\n",
    "\n",
    "print(gamestop_income_data)\n"
   ]
  },
  {
   "cell_type": "code",
   "execution_count": null,
   "id": "70e97612-ac59-4b9d-b789-4d1aac61bbcc",
   "metadata": {},
   "outputs": [],
   "source": [
    "import plotly.graph_objs as go\n",
    "\n",
    "# 示例股票数据和收入数据\n",
    "stock_dates = tesla_data.index\n",
    "stock_prices = tesla_data['Close']\n",
    "income_dates = [\"2022-01-01\", \"2023-01-01\"]\n",
    "income_values = [31500, 35000]  # 示例收入\n",
    "\n",
    "# 创建股票价格图表\n",
    "stock_trace = go.Scatter(x=stock_dates, y=stock_prices, mode='lines', name='特斯拉股票价格')\n",
    "\n",
    "# 创建收入柱状图\n",
    "income_trace = go.Bar(x=income_dates, y=income_values, name='特斯拉收入')\n",
    "\n",
    "# 合并图表\n",
    "layout = go.Layout(title=\"特斯拉股票和收入仪表板\", xaxis=dict(title=\"日期\"), yaxis=dict(title=\"价格/收入\"))\n",
    "fig = go.Figure(data=[stock_trace, income_trace], layout=layout)\n",
    "\n",
    "fig.show()\n"
   ]
  },
  {
   "cell_type": "code",
   "execution_count": null,
   "id": "9d03118d-83af-474d-befa-abe8197cf1ce",
   "metadata": {},
   "outputs": [],
   "source": [
    "# 示例股票数据和收入数据\n",
    "stock_dates = gamestop_data.index\n",
    "stock_prices = gamestop_data['Close']\n",
    "income_dates = [\"2022-01-01\", \"2023-01-01\"]\n",
    "income_values = [5000, 5200]  # 示例收入\n",
    "\n",
    "# 创建股票价格图表\n",
    "stock_trace = go.Scatter(x=stock_dates, y=stock_prices, mode='lines', name='GameStop 股票价格')\n",
    "\n",
    "# 创建收入柱状图\n",
    "income_trace = go.Bar(x=income_dates, y=income_values, name='GameStop 收入')\n",
    "\n",
    "# 合并图表\n",
    "layout = go.Layout(title=\"GameStop 股票和收入仪表板\", xaxis=dict(title=\"日期\"), yaxis=dict(title=\"价格/收入\"))\n",
    "fig = go.Figure(data=[stock_trace, income_trace], layout=layout)\n",
    "\n",
    "fig.show()\n"
   ]
  }
 ],
 "metadata": {
  "kernelspec": {
   "display_name": "Python [conda env:base] *",
   "language": "python",
   "name": "conda-base-py"
  },
  "language_info": {
   "codemirror_mode": {
    "name": "ipython",
    "version": 3
   },
   "file_extension": ".py",
   "mimetype": "text/x-python",
   "name": "python",
   "nbconvert_exporter": "python",
   "pygments_lexer": "ipython3",
   "version": "3.12.7"
  }
 },
 "nbformat": 4,
 "nbformat_minor": 5
}
